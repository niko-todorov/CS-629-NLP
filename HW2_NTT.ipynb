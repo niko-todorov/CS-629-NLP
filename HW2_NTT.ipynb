{
  "nbformat": 4,
  "nbformat_minor": 0,
  "metadata": {
    "colab": {
      "name": "HW2_NTT.ipynb",
      "provenance": [],
      "collapsed_sections": [],
      "authorship_tag": "ABX9TyMVo+c5ASuduHzEesoRpdwN",
      "include_colab_link": true
    },
    "kernelspec": {
      "name": "python3",
      "display_name": "Python 3"
    }
  },
  "cells": [
    {
      "cell_type": "markdown",
      "metadata": {
        "id": "view-in-github",
        "colab_type": "text"
      },
      "source": [
        "<a href=\"https://colab.research.google.com/github/niko-todorov/CS-629-NLP/blob/main/HW2_NTT.ipynb\" target=\"_parent\"><img src=\"https://colab.research.google.com/assets/colab-badge.svg\" alt=\"Open In Colab\"/></a>"
      ]
    },
    {
      "cell_type": "code",
      "metadata": {
        "colab": {
          "base_uri": "https://localhost:8080/"
        },
        "id": "pDSZLvBWqsxK",
        "outputId": "d6e87bf5-72af-4ceb-a59f-49a3b6bb37ee"
      },
      "source": [
        "import re\r\n",
        "# split: a string on regex\r\n",
        "# findall: patterns in a string\r\n",
        "# finditer: finds all matches in a string, returns iter to 1st element\r\n",
        "# search: for a pattern\r\n",
        "# match: an entire string or substring based on a pattern\r\n",
        "input = '''This is 1 exorbitantly looong string that I''d hate to parse \r\n",
        "more than 5-times!!! If you know what I mean?'''\r\n",
        "# pattern = '\\w*' # words\r\n",
        "# pattern = '[A-Z]\\w+' # capitalized words\r\n",
        "# pattern = '\\s+' # spaces\r\n",
        "# print(f'{re.split(pattern, input)}')\r\n",
        "\r\n",
        "# pattern = r'[.?!]*' # sentence-ending tokens\r\n",
        "# print(f'{re.compile(pattern).findall(input)}')\r\n",
        "# matches = re.compile(pattern).finditer(input)\r\n",
        "\r\n",
        "print(f'{re.findall(pattern, input)}')\r\n",
        "matches = re.finditer(pattern, input)\r\n",
        "\r\n",
        "for match in matches:\r\n",
        "  print(f'\"{match}\"')"
      ],
      "execution_count": 16,
      "outputs": [
        {
          "output_type": "stream",
          "text": [
            "['!', '!', '!', '?']\n",
            "\"<_sre.SRE_Match object; span=(79, 80), match='!'>\"\n",
            "\"<_sre.SRE_Match object; span=(80, 81), match='!'>\"\n",
            "\"<_sre.SRE_Match object; span=(81, 82), match='!'>\"\n",
            "\"<_sre.SRE_Match object; span=(106, 107), match='?'>\"\n"
          ],
          "name": "stdout"
        }
      ]
    },
    {
      "cell_type": "code",
      "metadata": {
        "colab": {
          "base_uri": "https://localhost:8080/"
        },
        "id": "0gBuA_cirTtz",
        "outputId": "fc7b4fe0-bd7c-4656-90cb-c7aed4db88e1"
      },
      "source": [
        "import nltk\r\n",
        "nltk.download(\"punkt\")\r\n",
        "from nltk.tokenize import word_tokenize, sent_tokenize\r\n",
        "\r\n",
        "from google.colab import files"
      ],
      "execution_count": 26,
      "outputs": [
        {
          "output_type": "stream",
          "text": [
            "[nltk_data] Downloading package punkt to /root/nltk_data...\n",
            "[nltk_data]   Package punkt is already up-to-date!\n"
          ],
          "name": "stdout"
        }
      ]
    },
    {
      "cell_type": "code",
      "metadata": {
        "colab": {
          "resources": {
            "http://localhost:8080/nbextensions/google.colab/files.js": {
              "data": "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",
              "ok": true,
              "headers": [
                [
                  "content-type",
                  "application/javascript"
                ]
              ],
              "status": 200,
              "status_text": ""
            }
          },
          "base_uri": "https://localhost:8080/",
          "height": 72
        },
        "id": "g5yYnLZc-tLb",
        "outputId": "6220b23b-02ff-4d0d-ec96-eb93e18c562a"
      },
      "source": [
        "txt = files.upload() # G:\\My Drive\\629\\books\\43.txt"
      ],
      "execution_count": 23,
      "outputs": [
        {
          "output_type": "display_data",
          "data": {
            "text/html": [
              "\n",
              "     <input type=\"file\" id=\"files-482fe29d-5ec2-4611-b63e-97d96d09ec40\" name=\"files[]\" multiple disabled\n",
              "        style=\"border:none\" />\n",
              "     <output id=\"result-482fe29d-5ec2-4611-b63e-97d96d09ec40\">\n",
              "      Upload widget is only available when the cell has been executed in the\n",
              "      current browser session. Please rerun this cell to enable.\n",
              "      </output>\n",
              "      <script src=\"/nbextensions/google.colab/files.js\"></script> "
            ],
            "text/plain": [
              "<IPython.core.display.HTML object>"
            ]
          },
          "metadata": {
            "tags": []
          }
        },
        {
          "output_type": "stream",
          "text": [
            "Saving 43.txt to 43.txt\n"
          ],
          "name": "stdout"
        }
      ]
    },
    {
      "cell_type": "code",
      "metadata": {
        "colab": {
          "base_uri": "https://localhost:8080/"
        },
        "id": "VzyavBUE-kPb",
        "outputId": "abdf1ed0-ce88-4d2a-e578-5ff6da92088f"
      },
      "source": [
        "with open('43.txt','r') as file:\r\n",
        "  JekyllHyde = file.read()\r\n",
        "  sometxt = re.split(\"Tut-tut,\", JekyllHyde)[0]\r\n",
        "# print(sometxt)\r\n",
        "\r\n",
        "mysentences = sent_tokenize(sometxt)\r\n",
        "# print(f'{mysentences}')\r\n",
        "\r\n",
        "mywords = word_tokenize(mysentences[3])\r\n",
        "# print(f'{mywords}')\r\n",
        "\r\n",
        "myuniqwords = set(word_tokenize(sometxt))\r\n",
        "print(f'{myuniqwords}')\r\n",
        "\r\n",
        "# using python re\r\n"
      ],
      "execution_count": 29,
      "outputs": [
        {
          "output_type": "stream",
          "text": [
            "{'hands', 'showed', 'AND', 'knocker', 'my', 'quiet', 'invitation', 'random', 'hateful', 'quarter', 'mine', 'nut', '***', 'somehow', 'found', 'friendly', 'symbols', 'cold', 'name', 'loathing', 'nor', 'connected', 'acquaintance', 'added', 'faces', 'women', 'Jekyll', 'four', 'set', 'reported', 'alone', 'Louis', 'hoping', 'till', 'affirmative', 'perfectly', 'STORY', 'empty', 'keeping', 'sordid', \"o'clock\", 'body', 'eastward', 'used', 'occasions', 'hard', 'if', 'reputable', 'white', 'whom', 'instantly', 'already', 'aptness', 'as', 'stay', 'panels', 'naturally', 'storeys', 'cleanliness', 'scene', 'neighbourhood', 'sick', 'next', 'lifted', 'gave', 'called', '#', 'known', 'been', 'who', 'pleasure', 'eminently', 'voice', 'surplus', 'odd', 'generation', 'anywhere', 'first', 'Coutts', '--', 'object', 'In', 'implied', 'slouched', 'heels', 'returned', 'He', 'him', 'got', 'thrust', 'it', 'appeared', 'children', 'silent', 'Character', 'mind', 'asleep', 'something', 'we', 'distant', 'hear', 'Case', 'rest', 'friends', ']', 'lighted', 'frequently', '``', 'turn', 'undertook', 'greatest', 'calls', 'there', 'carried', 'three', 'emulously', 'story', 'smile', 'crossed', 'gaiety', 'some', 'reason', 'coolness', 'Cain', 'with', 'walks', 'pitching', 'feature', 'said', 're-use', 'still', 'best', 'negligence', 'than', 'good-nature', 'do', 'signature', 'last', 'grains', 'distained', 'spoke', 'signed', 'in', 'Not', 'upper', 'knew', 'incline', 'choose', '`If', 'building', 'have', 'doubt', 'open', 'child', 'girl', 'colour', 'avoid', 'hundred', 'circumstance', 'Robert', 'good', 'make', 'whole', 'long', 'any', 'bell', 'struck', 'London', 'air', 'by', 'another', 'help', 'enough', 'The', \"'s\", 'START', 'pretty', 'night', 'trampled', 'week', 'chambers', 'nothing', 'cane', 'figures', 'envy', 'real', 'kept', 'age', 'forest', 'contrast', 'usual', 'many', 'helpless', 'all', 'the', 'killing', 'theatre', 'natural', 'jewel', 'dusty', 'former', 'singularly', 'Juggernaut', 'away', 'prolonged', 'come', 'desire', 'people', 'doctor', 'quaintly', 'hot', 'ASCII', 'blistered', 'Of', 'sweat', 'particular', 'calmly', 'storey', 'approved', 'backward', 'wall', 'part', 'subject', 'never', 'turned', 'stick', 'lot', 'printed', 'see', 'painted', 'halloa', 'June', 'question', 'DOOR', 'only', 'schoolboy', 'opportunity', 'for', 'cool', 'drive', 'lean', 'men', '1992', 'us', 'pointed', 'English', 'Title', 'countenance', 'point', 'supposed', 'wondering', 'friendship', 'balance', 'bond', 'wine', 'rugged', 'face', 'looked', 'shutters', 'end', 'whatsoever', 'breakfasted', 'almost', 'father', 'loudly', 'after-dinner', 'resisted', 'well-polished', 'horrible', 'much', 'circle', 'led', 'freshly', 'inhabitants', 'two', 'world', 'For', 'thriving', 'scanty', 'that', 'shop', 'Utterson', 'Richard', 'dingy', 'am', 'payable', 'human', 'heresy', 'resistance', '31', 'THIS', 'rambles', 'these', \"'\", 'comparatively', 'visitors', 'east', 'bearer', 'sentiment', 'scandal', 'according', 'Stevenson', 'Language', 'Sunday', 'whipped', 'general', 'sir', 'you', 'sight', 'did', 'door', 'home', 'meant', 'get', 'every', 'middle', 'involved', 'this', 'lawyer', 'might', 'stood', 'matches', 'ravages', 'sometimes', 'enjoy', 'or', 'But', 'up', 'crack', 'sneering', 'mortify', 'back', 'bagpipe', 'passed', 'Hence', 'say', 'gable', 'kind', 'Enfield', 'character', 'able', 'literally', 'cost', 'frightened', 'florid', 'relief', 'sent', 'side', 'prisoner', 'rows', 'sinister', 'then', 'believe', 'is', 'tolerance', 'stiff', 'accident', 'dry', 'them', 'walk', 'And', 'should', 'accent', 'business', 'anyone', 'HYDE', 'collared', 'reprove', 'sounds', 'online', 'THE', 'credit', 'October', 'discoloured', 'I', 'curious', 'ran', 'cut', 'chief', 'trade', 'more', 'quite', 'aside', 'chanced', 'neither', 'uninterrupted', 'Posting', 'Well', 'Street', 'had', 'gentleman', 'You', 'kill', 'doing', 'influence', 'Satan', 'knife', 'presently', 'case', 'he', 'does', 'included', 'shade', 'Sawbones', 'least', 'would', 'It', 'be', 'other', 'obvious', 'gin', 'too', 'doors', 'liberty', 'caught', 'morning', 'taste', 'what', 'once', 'were', 'over', 'banks', 'downgoing', 'undemonstrative', 'hellish', 'We', 'your', 'busy', 'seen', 'This', 'passage', 'and', 'maybe', 'so', 'acts', 'mark', 'even', 'No', 'apocryphal', 'running', 'encoding', 'discourse', 'no', 'blind', 'thoroughfare', 'let', 'folks', 'restrictions', 'each', 'Even', 'down', 'EBook', 'Strange', 'took', 'saleswomen', 'broken', 'ugly', \"wasn't\", 'coming', 'Gutenberg', 'forgery', 'austere', 'brother', 'group', 'our', 'at', 'EBOOK', 'lives', 'terms', 'devil', 'lower', 'MR.', 'when', 'not', 'note', 'better', 'to', 'encountered', 'cash', 'hail', 'JEKYLL', 'its', 'years', 'mischief', '43', 'under', 'OF', 'talk', 'going', 'screaming', 'affections', 'went', 'well', 'others', 'equipped', 'town', 'cheque', 'day', 'pointing', '2008', 'apothecary', 'emotional', 'soon', 'So', 'saw', ':', 'was', 'left', 'me', 'lamps', 'dreary', 'capital', 'bank', 'companion', 'recess', 'blood', 'pressure', '?', 'DR.', 'pleased', 'embarrassed', 'state', 'entry', 'www.gutenberg.org', 'fronts', 'similar', 'they', 'abreast', 'small', 'PROJECT', 'eight', 'coquetry', 'cellar', 'easy', 'copy', 'Two', 'an', 'drank', 'Date', 'asked', 'thing', 'window', 'mention', 'shone', 'Project', 'demeanour', 'Hyde', 'place', 'Edinburgh', 'think', 'forehead', 'misdeeds', 'tried', 'give', 'may', 'myself', 'spirits', 'counted', 'after', 'GUTENBERG', 'screwed', 'yet', 'weekdays', 'Mr.', '`I', 'bore', 'inclined', 'Tramps', 'procession', 'liked', 'drawn', 'ground', 'common', 'brought', 'marked', 'high', 'All', 'of', 'along', 'black', 'listens', 'enjoyed', 'united', 'street', 'begins', 'longest', 'lovable', 'into', 'modest', 'meetings', 'dull', 'their', 'church', 'life', 'bit', 'brasses', 'pounds', 'like', 'winter', 'growth', 'mouldings', 'ever', 'fire', 'though', 'forward', 'little', 'family', 'court', ';', 'Did', 'fortune', 'himself', 'Author', 'go', 'about', 'At', 'upon', 'put', 'but', 'find', 'red', 'through', 'hand', 'appearance', 'made', 'feat', '25', 'rather', 'remark', 'one', 'smiling', 'friend', 'policeman', 'change', 'off', 'worse', 'points', 'on', 'certain', 'laying', 'eye', 'told', 'damned', 'cross', 'look', 'she', 'time', 'His', 'money', 'strong', 'accept', 'extremity', 'charms', 'veiled', 'seemed', 'figure', 'passenger', 'beaconed', 'close', 'matter', 'stumping', 'well-known', 'her', 'clearly', 'License', 'really', 'carrying', 'out', 'genuine', 'being', 'Dr.', 'few', 'indeed', 'gold', 'kinsman', 'excursions', 'says', 'ready-made', 'his', 'CASE', 'came', 'own', 'line', '`Name', 'wild', '[', 'stink', 'drove', '`Set', 'eBook', 'Indeed', 'slight', 'lay', 'ivy', 'twenty', 'corner', 'key', 'Release', 'from', 'vintages', \"''\", 'ten', 'just', 'wishes', 'man', 'which', 'If', 'harpies', 'founded', 'way', 'a', 'such', 'where', 'very', 'block', 'catholicity', 'use', 'replied', 'will', 'steps', 'lose', '.', \"can't\", 'often', 'by-street', 'repair', ',', 'STRANGE', 'could', 'store', 'marks', 'taken', 'those'}\n"
          ],
          "name": "stdout"
        }
      ]
    },
    {
      "cell_type": "code",
      "metadata": {
        "id": "rSBeoXat2tey"
      },
      "source": [
        ""
      ],
      "execution_count": null,
      "outputs": []
    },
    {
      "cell_type": "markdown",
      "metadata": {
        "id": "m8NDthaOEul0"
      },
      "source": [
        "Support for regular expressions (RE).\r\n",
        "\r\n",
        "This module provides regular expression matching operations similar to\r\n",
        "those found in Perl.  It supports both 8-bit and Unicode strings; both\r\n",
        "the pattern and the strings being processed can contain null bytes and\r\n",
        "characters outside the US ASCII range.\r\n",
        "\r\n",
        "Regular expressions can contain both special and ordinary characters.\r\n",
        "Most ordinary characters, like \"A\", \"a\", or \"0\", are the simplest\r\n",
        "regular expressions; they simply match themselves.  You can\r\n",
        "concatenate ordinary characters, so last matches the string 'last'.\r\n",
        "\r\n",
        "The special characters are:\r\n",
        "    \".\"      Matches any character except a newline.\r\n",
        "    \"^\"      Matches the start of the string.\r\n",
        "    \"$\"      Matches the end of the string or just before the newline at\r\n",
        "             the end of the string.\r\n",
        "    \"*\"      Matches 0 or more (greedy) repetitions of the preceding RE.\r\n",
        "             Greedy means that it will match as many repetitions as possible.\r\n",
        "    \"+\"      Matches 1 or more (greedy) repetitions of the preceding RE.\r\n",
        "    \"?\"      Matches 0 or 1 (greedy) of the preceding RE.\r\n",
        "    *?,+?,?? Non-greedy versions of the previous three special characters.\r\n",
        "    {m,n}    Matches from m to n repetitions of the preceding RE.\r\n",
        "    {m,n}?   Non-greedy version of the above.\r\n",
        "    \"\\\\\"     Either escapes special characters or signals a special sequence.\r\n",
        "    []       Indicates a set of characters.\r\n",
        "             A \"^\" as the first character indicates a complementing set.\r\n",
        "    \"|\"      A|B, creates an RE that will match either A or B.\r\n",
        "    (...)    Matches the RE inside the parentheses.\r\n",
        "             The contents can be retrieved or matched later in the string.\r\n",
        "    (?aiLmsux) Set the A, I, L, M, S, U, or X flag for the RE (see below).\r\n",
        "    (?:...)  Non-grouping version of regular parentheses.\r\n",
        "    (?P<name>...) The substring matched by the group is accessible by name.\r\n",
        "    (?P=name)     Matches the text matched earlier by the group named name.\r\n",
        "    (?#...)  A comment; ignored.\r\n",
        "    (?=...)  Matches if ... matches next, but doesn't consume the string.\r\n",
        "    (?!...)  Matches if ... doesn't match next.\r\n",
        "    (?<=...) Matches if preceded by ... (must be fixed length).\r\n",
        "    (?<!...) Matches if not preceded by ... (must be fixed length).\r\n",
        "    (?(id/name)yes|no) Matches yes pattern if the group with id/name matched,\r\n",
        "                       the (optional) no pattern otherwise.\r\n",
        "\r\n",
        "The special sequences consist of \"\\\\\" and a character from the list\r\n",
        "below.  If the ordinary character is not on the list, then the\r\n",
        "resulting RE will match the second character.\r\n",
        "    \\number  Matches the contents of the group of the same number.\r\n",
        "    \\A       Matches only at the start of the string.\r\n",
        "    \\Z       Matches only at the end of the string.\r\n",
        "    \\b       Matches the empty string, but only at the start or end of a word.\r\n",
        "    \\B       Matches the empty string, but not at the start or end of a word.\r\n",
        "    \\d       Matches any decimal digit; equivalent to the set [0-9] in\r\n",
        "             bytes patterns or string patterns with the ASCII flag.\r\n",
        "             In string patterns without the ASCII flag, it will match the whole\r\n",
        "             range of Unicode digits.\r\n",
        "    \\D       Matches any non-digit character; equivalent to [^\\d].\r\n",
        "    \\s       Matches any whitespace character; equivalent to [ \\t\\n\\r\\f\\v] in\r\n",
        "             bytes patterns or string patterns with the ASCII flag.\r\n",
        "             In string patterns without the ASCII flag, it will match the whole\r\n",
        "             range of Unicode whitespace characters.\r\n",
        "    \\S       Matches any non-whitespace character; equivalent to [^\\s].\r\n",
        "    \\w       Matches any alphanumeric character; equivalent to [a-zA-Z0-9_]\r\n",
        "             in bytes patterns or string patterns with the ASCII flag.\r\n",
        "             In string patterns without the ASCII flag, it will match the\r\n",
        "             range of Unicode alphanumeric characters (letters plus digits\r\n",
        "             plus underscore).\r\n",
        "             With LOCALE, it will match the set [0-9_] plus characters defined\r\n",
        "             as letters for the current locale.\r\n",
        "    \\W       Matches the complement of \\w.\r\n",
        "    \\\\       Matches a literal backslash.\r\n",
        "\r\n",
        "This module exports the following functions:\r\n",
        "    match     Match a regular expression pattern to the beginning of a string.\r\n",
        "    fullmatch Match a regular expression pattern to all of a string.\r\n",
        "    search    Search a string for the presence of a pattern.\r\n",
        "    sub       Substitute occurrences of a pattern found in a string.\r\n",
        "    subn      Same as sub, but also return the number of substitutions made.\r\n",
        "    split     Split a string by the occurrences of a pattern.\r\n",
        "    findall   Find all occurrences of a pattern in a string.\r\n",
        "    finditer  Return an iterator yielding a match object for each match.\r\n",
        "    compile   Compile a pattern into a RegexObject.\r\n",
        "    purge     Clear the regular expression cache.\r\n",
        "    escape    Backslash all non-alphanumerics in a string.\r\n",
        "\r\n",
        "Some of the functions in this module takes flags as optional parameters:\r\n",
        "    A  ASCII       For string patterns, make \\w, \\W, \\b, \\B, \\d, \\D\r\n",
        "                   match the corresponding ASCII character categories\r\n",
        "                   (rather than the whole Unicode categories, which is the\r\n",
        "                   default).\r\n",
        "                   For bytes patterns, this flag is the only available\r\n",
        "                   behaviour and needn't be specified.\r\n",
        "    I  IGNORECASE  Perform case-insensitive matching.\r\n",
        "    L  LOCALE      Make \\w, \\W, \\b, \\B, dependent on the current locale.\r\n",
        "    M  MULTILINE   \"^\" matches the beginning of lines (after a newline)\r\n",
        "                   as well as the string.\r\n",
        "                   \"$\" matches the end of lines (before a newline) as well\r\n",
        "                   as the end of the string.\r\n",
        "    S  DOTALL      \".\" matches any character at all, including the newline.\r\n",
        "    X  VERBOSE     Ignore whitespace and comments for nicer looking RE's.\r\n",
        "    U  UNICODE     For compatibility only. Ignored for string patterns (it\r\n",
        "                   is the default), and forbidden for bytes patterns.\r\n",
        "\r\n",
        "This module also defines an exception 'error'."
      ]
    }
  ]
}