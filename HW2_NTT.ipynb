{
  "nbformat": 4,
  "nbformat_minor": 0,
  "metadata": {
    "colab": {
      "name": "HW2-NTT.ipynb",
      "provenance": [],
      "collapsed_sections": [],
      "authorship_tag": "ABX9TyPnptoBa2C0K59QEl/Hlz14",
      "include_colab_link": true
    },
    "kernelspec": {
      "name": "python3",
      "display_name": "Python 3"
    }
  },
  "cells": [
    {
      "cell_type": "markdown",
      "metadata": {
        "id": "view-in-github",
        "colab_type": "text"
      },
      "source": [
        "<a href=\"https://colab.research.google.com/github/niko-todorov/CS-629-NLP/blob/main/HW2_NTT.ipynb\" target=\"_parent\"><img src=\"https://colab.research.google.com/assets/colab-badge.svg\" alt=\"Open In Colab\"/></a>"
      ]
    },
    {
      "cell_type": "code",
      "metadata": {
        "id": "7NKkqLCFpB8F"
      },
      "source": [
        "import re\r\n",
        "# split: a string on regex\r\n",
        "# findall: patterns in a string\r\n",
        "# finditer: finds all the matches in the given string, returning an iterator with only one element\r\n",
        "# search: for a pattern\r\n",
        "# match: an entire string or substring based on a pattern\r\n",
        "input = 'this is an exorbitantly long string that i''d hate to parse!!!'\r\n",
        "pattern = '\\w*'\r\n",
        "matches = re.findall(pattern, input)\r\n",
        "\r\n",
        "for match in matches:\r\n",
        "  print(match)"
      ],
      "execution_count": null,
      "outputs": []
    },
    {
      "cell_type": "code",
      "metadata": {
        "id": "NUG2xbDy6rSO"
      },
      "source": [
        "a = 1.12\r\n",
        "b = 2.34\r\n",
        "c = 0.72\r\n",
        "d = 0.81\r\n",
        "f = 19.83"
      ],
      "execution_count": null,
      "outputs": []
    },
    {
      "cell_type": "code",
      "metadata": {
        "colab": {
          "base_uri": "https://localhost:8080/"
        },
        "id": "njSnGYWT68UK",
        "outputId": "a7f3ea41-10a8-4794-e606-b5c0f5e7bdbd"
      },
      "source": [
        "x=1+a/b+c/f**2\r\n",
        "x"
      ],
      "execution_count": null,
      "outputs": [
        {
          "output_type": "execute_result",
          "data": {
            "text/plain": [
              "1.4804634732516433"
            ]
          },
          "metadata": {
            "tags": []
          },
          "execution_count": 14
        }
      ]
    },
    {
      "cell_type": "code",
      "metadata": {
        "colab": {
          "base_uri": "https://localhost:8080/"
        },
        "id": "MrLywTYF7w6G",
        "outputId": "91a45fa7-9c43-47c1-cafd-d3b9368fb1fd"
      },
      "source": [
        "s=(b-a)/(d-c)\r\n",
        "s"
      ],
      "execution_count": null,
      "outputs": [
        {
          "output_type": "execute_result",
          "data": {
            "text/plain": [
              "13.555555555555541"
            ]
          },
          "metadata": {
            "tags": []
          },
          "execution_count": 15
        }
      ]
    },
    {
      "cell_type": "code",
      "metadata": {
        "colab": {
          "base_uri": "https://localhost:8080/"
        },
        "id": "-NTgpldQ74Is",
        "outputId": "a755570d-222f-4154-c13e-333884f63722"
      },
      "source": [
        "# r=1/(a**-1+b**-1+c**-1+d**-1)\r\n",
        "r=1/(1/a+1/b+1/c+1/d)\r\n",
        "r"
      ],
      "execution_count": null,
      "outputs": [
        {
          "output_type": "execute_result",
          "data": {
            "text/plain": [
              "0.2535712749946248"
            ]
          },
          "metadata": {
            "tags": []
          },
          "execution_count": 16
        }
      ]
    },
    {
      "cell_type": "code",
      "metadata": {
        "colab": {
          "base_uri": "https://localhost:8080/"
        },
        "id": "KxgyN6dz8iCw",
        "outputId": "db270efb-0f97-481c-baff-add418a13d80"
      },
      "source": [
        "y=a*b/c*f**2/2\r\n",
        "y"
      ],
      "execution_count": null,
      "outputs": [
        {
          "output_type": "execute_result",
          "data": {
            "text/plain": [
              "715.6765979999999"
            ]
          },
          "metadata": {
            "tags": []
          },
          "execution_count": 18
        }
      ]
    },
    {
      "cell_type": "code",
      "metadata": {
        "colab": {
          "base_uri": "https://localhost:8080/",
          "height": 35
        },
        "id": "LuxQLmgq5QG5",
        "outputId": "4dd4f683-ff49-40db-e509-e0e380689909"
      },
      "source": [
        "import tensorflow as tf\r\n",
        "tf.__version__"
      ],
      "execution_count": null,
      "outputs": [
        {
          "output_type": "execute_result",
          "data": {
            "application/vnd.google.colaboratory.intrinsic+json": {
              "type": "string"
            },
            "text/plain": [
              "'2.4.1'"
            ]
          },
          "metadata": {
            "tags": []
          },
          "execution_count": 1
        }
      ]
    },
    {
      "cell_type": "code",
      "metadata": {
        "colab": {
          "base_uri": "https://localhost:8080/",
          "height": 35
        },
        "id": "jflgGiF45qg8",
        "outputId": "6fd8280f-bc1e-4500-fd63-97fa1b6a6640"
      },
      "source": [
        "import keras as k\r\n",
        "k.__version__"
      ],
      "execution_count": null,
      "outputs": [
        {
          "output_type": "execute_result",
          "data": {
            "application/vnd.google.colaboratory.intrinsic+json": {
              "type": "string"
            },
            "text/plain": [
              "'2.4.3'"
            ]
          },
          "metadata": {
            "tags": []
          },
          "execution_count": 2
        }
      ]
    }
  ]
}